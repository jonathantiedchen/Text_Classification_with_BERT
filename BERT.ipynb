{
 "cells": [
  {
   "cell_type": "markdown",
   "metadata": {
    "id": "qhHZiqi_tjLZ"
   },
   "source": [
    "# BERT\n",
    "as implemented with guidance of Tensorflow tutorial https://www.tensorflow.org/text/tutorials/classify_text_with_bert"
   ]
  },
  {
   "cell_type": "code",
   "execution_count": 1,
   "metadata": {
    "colab": {
     "base_uri": "https://localhost:8080/"
    },
    "id": "HWtaocTltkRu",
    "outputId": "ee0d02c5-1a50-4116-ee60-790ab72b32a4"
   },
   "outputs": [
    {
     "name": "stdout",
     "output_type": "stream",
     "text": [
      "Collecting tensorflow-text==2.13.*\n",
      "  Downloading tensorflow_text-2.13.0-cp310-cp310-manylinux_2_17_x86_64.manylinux2014_x86_64.whl.metadata (2.0 kB)\n",
      "Collecting tensorflow-hub>=0.8.0 (from tensorflow-text==2.13.*)\n",
      "  Downloading tensorflow_hub-0.16.1-py2.py3-none-any.whl.metadata (1.3 kB)\n",
      "Collecting tensorflow<2.14,>=2.13.0 (from tensorflow-text==2.13.*)\n",
      "  Downloading tensorflow-2.13.1-cp310-cp310-manylinux_2_17_x86_64.manylinux2014_x86_64.whl.metadata (3.4 kB)\n",
      "Collecting absl-py>=1.0.0 (from tensorflow<2.14,>=2.13.0->tensorflow-text==2.13.*)\n",
      "  Downloading absl_py-2.1.0-py3-none-any.whl.metadata (2.3 kB)\n",
      "Collecting astunparse>=1.6.0 (from tensorflow<2.14,>=2.13.0->tensorflow-text==2.13.*)\n",
      "  Downloading astunparse-1.6.3-py2.py3-none-any.whl.metadata (4.4 kB)\n",
      "Collecting flatbuffers>=23.1.21 (from tensorflow<2.14,>=2.13.0->tensorflow-text==2.13.*)\n",
      "  Downloading flatbuffers-24.3.25-py2.py3-none-any.whl.metadata (850 bytes)\n",
      "Collecting gast<=0.4.0,>=0.2.1 (from tensorflow<2.14,>=2.13.0->tensorflow-text==2.13.*)\n",
      "  Downloading gast-0.4.0-py3-none-any.whl.metadata (1.1 kB)\n",
      "Collecting google-pasta>=0.1.1 (from tensorflow<2.14,>=2.13.0->tensorflow-text==2.13.*)\n",
      "  Downloading google_pasta-0.2.0-py3-none-any.whl.metadata (814 bytes)\n",
      "Collecting grpcio<2.0,>=1.24.3 (from tensorflow<2.14,>=2.13.0->tensorflow-text==2.13.*)\n",
      "  Downloading grpcio-1.64.0-cp310-cp310-manylinux_2_17_x86_64.manylinux2014_x86_64.whl.metadata (3.3 kB)\n",
      "Collecting h5py>=2.9.0 (from tensorflow<2.14,>=2.13.0->tensorflow-text==2.13.*)\n",
      "  Downloading h5py-3.11.0-cp310-cp310-manylinux_2_17_x86_64.manylinux2014_x86_64.whl.metadata (2.5 kB)\n",
      "Collecting keras<2.14,>=2.13.1 (from tensorflow<2.14,>=2.13.0->tensorflow-text==2.13.*)\n",
      "  Downloading keras-2.13.1-py3-none-any.whl.metadata (2.4 kB)\n",
      "Collecting libclang>=13.0.0 (from tensorflow<2.14,>=2.13.0->tensorflow-text==2.13.*)\n",
      "  Downloading libclang-18.1.1-py2.py3-none-manylinux2010_x86_64.whl.metadata (5.2 kB)\n",
      "Collecting numpy<=1.24.3,>=1.22 (from tensorflow<2.14,>=2.13.0->tensorflow-text==2.13.*)\n",
      "  Downloading numpy-1.24.3-cp310-cp310-manylinux_2_17_x86_64.manylinux2014_x86_64.whl.metadata (5.6 kB)\n",
      "Collecting opt-einsum>=2.3.2 (from tensorflow<2.14,>=2.13.0->tensorflow-text==2.13.*)\n",
      "  Downloading opt_einsum-3.3.0-py3-none-any.whl.metadata (6.5 kB)\n",
      "Requirement already satisfied: packaging in /opt/conda/lib/python3.10/site-packages (from tensorflow<2.14,>=2.13.0->tensorflow-text==2.13.*) (24.0)\n",
      "Collecting protobuf!=4.21.0,!=4.21.1,!=4.21.2,!=4.21.3,!=4.21.4,!=4.21.5,<5.0.0dev,>=3.20.3 (from tensorflow<2.14,>=2.13.0->tensorflow-text==2.13.*)\n",
      "  Downloading protobuf-4.25.3-cp37-abi3-manylinux2014_x86_64.whl.metadata (541 bytes)\n",
      "Requirement already satisfied: setuptools in /opt/conda/lib/python3.10/site-packages (from tensorflow<2.14,>=2.13.0->tensorflow-text==2.13.*) (69.5.1)\n",
      "Requirement already satisfied: six>=1.12.0 in /opt/conda/lib/python3.10/site-packages (from tensorflow<2.14,>=2.13.0->tensorflow-text==2.13.*) (1.16.0)\n",
      "Collecting tensorboard<2.14,>=2.13 (from tensorflow<2.14,>=2.13.0->tensorflow-text==2.13.*)\n",
      "  Downloading tensorboard-2.13.0-py3-none-any.whl.metadata (1.8 kB)\n",
      "Collecting tensorflow-estimator<2.14,>=2.13.0 (from tensorflow<2.14,>=2.13.0->tensorflow-text==2.13.*)\n",
      "  Downloading tensorflow_estimator-2.13.0-py2.py3-none-any.whl.metadata (1.3 kB)\n",
      "Collecting termcolor>=1.1.0 (from tensorflow<2.14,>=2.13.0->tensorflow-text==2.13.*)\n",
      "  Downloading termcolor-2.4.0-py3-none-any.whl.metadata (6.1 kB)\n",
      "Collecting typing-extensions<4.6.0,>=3.6.6 (from tensorflow<2.14,>=2.13.0->tensorflow-text==2.13.*)\n",
      "  Downloading typing_extensions-4.5.0-py3-none-any.whl.metadata (8.5 kB)\n",
      "Collecting wrapt>=1.11.0 (from tensorflow<2.14,>=2.13.0->tensorflow-text==2.13.*)\n",
      "  Downloading wrapt-1.16.0-cp310-cp310-manylinux_2_5_x86_64.manylinux1_x86_64.manylinux_2_17_x86_64.manylinux2014_x86_64.whl.metadata (6.6 kB)\n",
      "Collecting tensorflow-io-gcs-filesystem>=0.23.1 (from tensorflow<2.14,>=2.13.0->tensorflow-text==2.13.*)\n",
      "  Downloading tensorflow_io_gcs_filesystem-0.37.0-cp310-cp310-manylinux_2_17_x86_64.manylinux2014_x86_64.whl.metadata (14 kB)\n",
      "Collecting tf-keras>=2.14.1 (from tensorflow-hub>=0.8.0->tensorflow-text==2.13.*)\n",
      "  Downloading tf_keras-2.16.0-py3-none-any.whl.metadata (1.6 kB)\n",
      "Requirement already satisfied: wheel<1.0,>=0.23.0 in /opt/conda/lib/python3.10/site-packages (from astunparse>=1.6.0->tensorflow<2.14,>=2.13.0->tensorflow-text==2.13.*) (0.43.0)\n",
      "Collecting google-auth<3,>=1.6.3 (from tensorboard<2.14,>=2.13->tensorflow<2.14,>=2.13.0->tensorflow-text==2.13.*)\n",
      "  Downloading google_auth-2.29.0-py2.py3-none-any.whl.metadata (4.7 kB)\n",
      "Collecting google-auth-oauthlib<1.1,>=0.5 (from tensorboard<2.14,>=2.13->tensorflow<2.14,>=2.13.0->tensorflow-text==2.13.*)\n",
      "  Downloading google_auth_oauthlib-1.0.0-py2.py3-none-any.whl.metadata (2.7 kB)\n",
      "Collecting markdown>=2.6.8 (from tensorboard<2.14,>=2.13->tensorflow<2.14,>=2.13.0->tensorflow-text==2.13.*)\n",
      "  Downloading Markdown-3.6-py3-none-any.whl.metadata (7.0 kB)\n",
      "Requirement already satisfied: requests<3,>=2.21.0 in /opt/conda/lib/python3.10/site-packages (from tensorboard<2.14,>=2.13->tensorflow<2.14,>=2.13.0->tensorflow-text==2.13.*) (2.31.0)\n",
      "Collecting tensorboard-data-server<0.8.0,>=0.7.0 (from tensorboard<2.14,>=2.13->tensorflow<2.14,>=2.13.0->tensorflow-text==2.13.*)\n",
      "  Downloading tensorboard_data_server-0.7.2-py3-none-manylinux_2_31_x86_64.whl.metadata (1.1 kB)\n",
      "Collecting werkzeug>=1.0.1 (from tensorboard<2.14,>=2.13->tensorflow<2.14,>=2.13.0->tensorflow-text==2.13.*)\n",
      "  Downloading werkzeug-3.0.3-py3-none-any.whl.metadata (3.7 kB)\n",
      "INFO: pip is looking at multiple versions of tf-keras to determine which version is compatible with other requirements. This could take a while.\n",
      "Collecting tf-keras>=2.14.1 (from tensorflow-hub>=0.8.0->tensorflow-text==2.13.*)\n",
      "  Downloading tf_keras-2.15.1-py3-none-any.whl.metadata (1.7 kB)\n",
      "  Downloading tf_keras-2.15.0-py3-none-any.whl.metadata (1.6 kB)\n",
      "Collecting cachetools<6.0,>=2.0.0 (from google-auth<3,>=1.6.3->tensorboard<2.14,>=2.13->tensorflow<2.14,>=2.13.0->tensorflow-text==2.13.*)\n",
      "  Downloading cachetools-5.3.3-py3-none-any.whl.metadata (5.3 kB)\n",
      "Collecting pyasn1-modules>=0.2.1 (from google-auth<3,>=1.6.3->tensorboard<2.14,>=2.13->tensorflow<2.14,>=2.13.0->tensorflow-text==2.13.*)\n",
      "  Downloading pyasn1_modules-0.4.0-py3-none-any.whl.metadata (3.4 kB)\n",
      "Collecting rsa<5,>=3.1.4 (from google-auth<3,>=1.6.3->tensorboard<2.14,>=2.13->tensorflow<2.14,>=2.13.0->tensorflow-text==2.13.*)\n",
      "  Downloading rsa-4.9-py3-none-any.whl.metadata (4.2 kB)\n",
      "Collecting requests-oauthlib>=0.7.0 (from google-auth-oauthlib<1.1,>=0.5->tensorboard<2.14,>=2.13->tensorflow<2.14,>=2.13.0->tensorflow-text==2.13.*)\n",
      "  Downloading requests_oauthlib-2.0.0-py2.py3-none-any.whl.metadata (11 kB)\n",
      "Requirement already satisfied: charset-normalizer<4,>=2 in /opt/conda/lib/python3.10/site-packages (from requests<3,>=2.21.0->tensorboard<2.14,>=2.13->tensorflow<2.14,>=2.13.0->tensorflow-text==2.13.*) (3.3.2)\n",
      "Requirement already satisfied: idna<4,>=2.5 in /opt/conda/lib/python3.10/site-packages (from requests<3,>=2.21.0->tensorboard<2.14,>=2.13->tensorflow<2.14,>=2.13.0->tensorflow-text==2.13.*) (3.6)\n",
      "Requirement already satisfied: urllib3<3,>=1.21.1 in /opt/conda/lib/python3.10/site-packages (from requests<3,>=2.21.0->tensorboard<2.14,>=2.13->tensorflow<2.14,>=2.13.0->tensorflow-text==2.13.*) (2.2.1)\n",
      "Requirement already satisfied: certifi>=2017.4.17 in /opt/conda/lib/python3.10/site-packages (from requests<3,>=2.21.0->tensorboard<2.14,>=2.13->tensorflow<2.14,>=2.13.0->tensorflow-text==2.13.*) (2024.2.2)\n",
      "Requirement already satisfied: MarkupSafe>=2.1.1 in /opt/conda/lib/python3.10/site-packages (from werkzeug>=1.0.1->tensorboard<2.14,>=2.13->tensorflow<2.14,>=2.13.0->tensorflow-text==2.13.*) (2.1.5)\n",
      "Collecting pyasn1<0.7.0,>=0.4.6 (from pyasn1-modules>=0.2.1->google-auth<3,>=1.6.3->tensorboard<2.14,>=2.13->tensorflow<2.14,>=2.13.0->tensorflow-text==2.13.*)\n",
      "  Downloading pyasn1-0.6.0-py2.py3-none-any.whl.metadata (8.3 kB)\n",
      "Requirement already satisfied: oauthlib>=3.0.0 in /opt/conda/lib/python3.10/site-packages (from requests-oauthlib>=0.7.0->google-auth-oauthlib<1.1,>=0.5->tensorboard<2.14,>=2.13->tensorflow<2.14,>=2.13.0->tensorflow-text==2.13.*) (3.2.2)\n",
      "Downloading tensorflow_text-2.13.0-cp310-cp310-manylinux_2_17_x86_64.manylinux2014_x86_64.whl (6.5 MB)\n",
      "\u001b[2K   \u001b[90m━━━━━━━━━━━━━━━━━━━━━━━━━━━━━━━━━━━━━━━━\u001b[0m \u001b[32m6.5/6.5 MB\u001b[0m \u001b[31m34.5 MB/s\u001b[0m eta \u001b[36m0:00:00\u001b[0m:00:01\u001b[0m00:01\u001b[0m\n",
      "\u001b[?25hDownloading tensorflow-2.13.1-cp310-cp310-manylinux_2_17_x86_64.manylinux2014_x86_64.whl (479.7 MB)\n",
      "\u001b[2K   \u001b[90m━━━━━━━━━━━━━━━━━━━━━━━━━━━━━━━━━━━━━━━━\u001b[0m \u001b[32m479.7/479.7 MB\u001b[0m \u001b[31m9.7 MB/s\u001b[0m eta \u001b[36m0:00:00\u001b[0m:00:01\u001b[0m00:01\u001b[0m\n",
      "\u001b[?25hDownloading tensorflow_hub-0.16.1-py2.py3-none-any.whl (30 kB)\n",
      "Downloading absl_py-2.1.0-py3-none-any.whl (133 kB)\n",
      "\u001b[2K   \u001b[90m━━━━━━━━━━━━━━━━━━━━━━━━━━━━━━━━━━━━━━━━\u001b[0m \u001b[32m133.7/133.7 kB\u001b[0m \u001b[31m2.9 MB/s\u001b[0m eta \u001b[36m0:00:00\u001b[0m:00:01\u001b[0m\n",
      "\u001b[?25hDownloading astunparse-1.6.3-py2.py3-none-any.whl (12 kB)\n",
      "Downloading flatbuffers-24.3.25-py2.py3-none-any.whl (26 kB)\n",
      "Downloading gast-0.4.0-py3-none-any.whl (9.8 kB)\n",
      "Downloading google_pasta-0.2.0-py3-none-any.whl (57 kB)\n",
      "\u001b[2K   \u001b[90m━━━━━━━━━━━━━━━━━━━━━━━━━━━━━━━━━━━━━━━━\u001b[0m \u001b[32m57.5/57.5 kB\u001b[0m \u001b[31m2.2 MB/s\u001b[0m eta \u001b[36m0:00:00\u001b[0m\n",
      "\u001b[?25hDownloading grpcio-1.64.0-cp310-cp310-manylinux_2_17_x86_64.manylinux2014_x86_64.whl (5.6 MB)\n",
      "\u001b[2K   \u001b[90m━━━━━━━━━━━━━━━━━━━━━━━━━━━━━━━━━━━━━━━━\u001b[0m \u001b[32m5.6/5.6 MB\u001b[0m \u001b[31m47.1 MB/s\u001b[0m eta \u001b[36m0:00:00\u001b[0m:00:01\u001b[0m\n",
      "\u001b[?25hDownloading h5py-3.11.0-cp310-cp310-manylinux_2_17_x86_64.manylinux2014_x86_64.whl (5.3 MB)\n",
      "\u001b[2K   \u001b[90m━━━━━━━━━━━━━━━━━━━━━━━━━━━━━━━━━━━━━━━━\u001b[0m \u001b[32m5.3/5.3 MB\u001b[0m \u001b[31m41.2 MB/s\u001b[0m eta \u001b[36m0:00:00\u001b[0m:00:01\u001b[0m\n",
      "\u001b[?25hDownloading keras-2.13.1-py3-none-any.whl (1.7 MB)\n",
      "\u001b[2K   \u001b[90m━━━━━━━━━━━━━━━━━━━━━━━━━━━━━━━━━━━━━━━━\u001b[0m \u001b[32m1.7/1.7 MB\u001b[0m \u001b[31m28.1 MB/s\u001b[0m eta \u001b[36m0:00:00\u001b[0m:00:01\u001b[0m\n",
      "\u001b[?25hDownloading libclang-18.1.1-py2.py3-none-manylinux2010_x86_64.whl (24.5 MB)\n",
      "\u001b[2K   \u001b[90m━━━━━━━━━━━━━━━━━━━━━━━━━━━━━━━━━━━━━━━━\u001b[0m \u001b[32m24.5/24.5 MB\u001b[0m \u001b[31m48.1 MB/s\u001b[0m eta \u001b[36m0:00:00\u001b[0m:00:01\u001b[0m00:01\u001b[0m\n",
      "\u001b[?25hDownloading numpy-1.24.3-cp310-cp310-manylinux_2_17_x86_64.manylinux2014_x86_64.whl (17.3 MB)\n",
      "\u001b[2K   \u001b[90m━━━━━━━━━━━━━━━━━━━━━━━━━━━━━━━━━━━━━━━━\u001b[0m \u001b[32m17.3/17.3 MB\u001b[0m \u001b[31m27.1 MB/s\u001b[0m eta \u001b[36m0:00:00\u001b[0m00:01\u001b[0m00:01\u001b[0m\n",
      "\u001b[?25hDownloading opt_einsum-3.3.0-py3-none-any.whl (65 kB)\n",
      "\u001b[2K   \u001b[90m━━━━━━━━━━━━━━━━━━━━━━━━━━━━━━━━━━━━━━━━\u001b[0m \u001b[32m65.5/65.5 kB\u001b[0m \u001b[31m2.2 MB/s\u001b[0m eta \u001b[36m0:00:00\u001b[0m\n",
      "\u001b[?25hDownloading protobuf-4.25.3-cp37-abi3-manylinux2014_x86_64.whl (294 kB)\n",
      "\u001b[2K   \u001b[90m━━━━━━━━━━━━━━━━━━━━━━━━━━━━━━━━━━━━━━━━\u001b[0m \u001b[32m294.6/294.6 kB\u001b[0m \u001b[31m5.7 MB/s\u001b[0m eta \u001b[36m0:00:00\u001b[0mta \u001b[36m0:00:01\u001b[0m\n",
      "\u001b[?25hDownloading tensorboard-2.13.0-py3-none-any.whl (5.6 MB)\n",
      "\u001b[2K   \u001b[90m━━━━━━━━━━━━━━━━━━━━━━━━━━━━━━━━━━━━━━━━\u001b[0m \u001b[32m5.6/5.6 MB\u001b[0m \u001b[31m48.6 MB/s\u001b[0m eta \u001b[36m0:00:00\u001b[0m:00:01\u001b[0m\n",
      "\u001b[?25hDownloading tensorflow_estimator-2.13.0-py2.py3-none-any.whl (440 kB)\n",
      "\u001b[2K   \u001b[90m━━━━━━━━━━━━━━━━━━━━━━━━━━━━━━━━━━━━━━━━\u001b[0m \u001b[32m440.8/440.8 kB\u001b[0m \u001b[31m8.7 MB/s\u001b[0m eta \u001b[36m0:00:00\u001b[0m:00:01\u001b[0m\n",
      "\u001b[?25hDownloading tensorflow_io_gcs_filesystem-0.37.0-cp310-cp310-manylinux_2_17_x86_64.manylinux2014_x86_64.whl (5.1 MB)\n",
      "\u001b[2K   \u001b[90m━━━━━━━━━━━━━━━━━━━━━━━━━━━━━━━━━━━━━━━━\u001b[0m \u001b[32m5.1/5.1 MB\u001b[0m \u001b[31m44.2 MB/s\u001b[0m eta \u001b[36m0:00:00\u001b[0m:00:01\u001b[0m\n",
      "\u001b[?25hDownloading termcolor-2.4.0-py3-none-any.whl (7.7 kB)\n",
      "Downloading tf_keras-2.15.0-py3-none-any.whl (1.7 MB)\n",
      "\u001b[2K   \u001b[90m━━━━━━━━━━━━━━━━━━━━━━━━━━━━━━━━━━━━━━━━\u001b[0m \u001b[32m1.7/1.7 MB\u001b[0m \u001b[31m21.0 MB/s\u001b[0m eta \u001b[36m0:00:00\u001b[0m:00:01\u001b[0m\n",
      "\u001b[?25hDownloading typing_extensions-4.5.0-py3-none-any.whl (27 kB)\n",
      "Downloading wrapt-1.16.0-cp310-cp310-manylinux_2_5_x86_64.manylinux1_x86_64.manylinux_2_17_x86_64.manylinux2014_x86_64.whl (80 kB)\n",
      "\u001b[2K   \u001b[90m━━━━━━━━━━━━━━━━━━━━━━━━━━━━━━━━━━━━━━━━\u001b[0m \u001b[32m80.3/80.3 kB\u001b[0m \u001b[31m2.9 MB/s\u001b[0m eta \u001b[36m0:00:00\u001b[0m\n",
      "\u001b[?25hDownloading google_auth-2.29.0-py2.py3-none-any.whl (189 kB)\n",
      "\u001b[2K   \u001b[90m━━━━━━━━━━━━━━━━━━━━━━━━━━━━━━━━━━━━━━━━\u001b[0m \u001b[32m189.2/189.2 kB\u001b[0m \u001b[31m5.4 MB/s\u001b[0m eta \u001b[36m0:00:00\u001b[0m\n",
      "\u001b[?25hDownloading google_auth_oauthlib-1.0.0-py2.py3-none-any.whl (18 kB)\n",
      "Downloading Markdown-3.6-py3-none-any.whl (105 kB)\n",
      "\u001b[2K   \u001b[90m━━━━━━━━━━━━━━━━━━━━━━━━━━━━━━━━━━━━━━━━\u001b[0m \u001b[32m105.4/105.4 kB\u001b[0m \u001b[31m1.6 MB/s\u001b[0m eta \u001b[36m0:00:00\u001b[0mta \u001b[36m0:00:01\u001b[0m\n",
      "\u001b[?25hDownloading tensorboard_data_server-0.7.2-py3-none-manylinux_2_31_x86_64.whl (6.6 MB)\n",
      "\u001b[2K   \u001b[90m━━━━━━━━━━━━━━━━━━━━━━━━━━━━━━━━━━━━━━━━\u001b[0m \u001b[32m6.6/6.6 MB\u001b[0m \u001b[31m42.9 MB/s\u001b[0m eta \u001b[36m0:00:00\u001b[0m:00:01\u001b[0m\n",
      "\u001b[?25hDownloading werkzeug-3.0.3-py3-none-any.whl (227 kB)\n",
      "\u001b[2K   \u001b[90m━━━━━━━━━━━━━━━━━━━━━━━━━━━━━━━━━━━━━━━━\u001b[0m \u001b[32m227.3/227.3 kB\u001b[0m \u001b[31m7.6 MB/s\u001b[0m eta \u001b[36m0:00:00\u001b[0m\n",
      "\u001b[?25hDownloading cachetools-5.3.3-py3-none-any.whl (9.3 kB)\n",
      "Downloading pyasn1_modules-0.4.0-py3-none-any.whl (181 kB)\n",
      "\u001b[2K   \u001b[90m━━━━━━━━━━━━━━━━━━━━━━━━━━━━━━━━━━━━━━━━\u001b[0m \u001b[32m181.2/181.2 kB\u001b[0m \u001b[31m8.6 MB/s\u001b[0m eta \u001b[36m0:00:00\u001b[0m\n",
      "\u001b[?25hDownloading requests_oauthlib-2.0.0-py2.py3-none-any.whl (24 kB)\n",
      "Downloading rsa-4.9-py3-none-any.whl (34 kB)\n",
      "Downloading pyasn1-0.6.0-py2.py3-none-any.whl (85 kB)\n",
      "\u001b[2K   \u001b[90m━━━━━━━━━━━━━━━━━━━━━━━━━━━━━━━━━━━━━━━━\u001b[0m \u001b[32m85.3/85.3 kB\u001b[0m \u001b[31m3.9 MB/s\u001b[0m eta \u001b[36m0:00:00\u001b[0m\n",
      "\u001b[?25hInstalling collected packages: libclang, flatbuffers, wrapt, werkzeug, typing-extensions, tf-keras, termcolor, tensorflow-io-gcs-filesystem, tensorflow-estimator, tensorboard-data-server, pyasn1, protobuf, numpy, markdown, keras, grpcio, google-pasta, gast, cachetools, astunparse, absl-py, tensorflow-hub, rsa, requests-oauthlib, pyasn1-modules, opt-einsum, h5py, google-auth, google-auth-oauthlib, tensorboard, tensorflow, tensorflow-text\n",
      "  Attempting uninstall: typing-extensions\n",
      "    Found existing installation: typing_extensions 4.11.0\n",
      "    Uninstalling typing_extensions-4.11.0:\n",
      "      Successfully uninstalled typing_extensions-4.11.0\n",
      "  Attempting uninstall: numpy\n",
      "    Found existing installation: numpy 1.26.4\n",
      "    Uninstalling numpy-1.26.4:\n",
      "      Successfully uninstalled numpy-1.26.4\n",
      "\u001b[31mERROR: pip's dependency resolver does not currently take into account all the packages that are installed. This behaviour is the source of the following dependency conflicts.\n",
      "sqlalchemy 2.0.30 requires typing-extensions>=4.6.0, but you have typing-extensions 4.5.0 which is incompatible.\n",
      "ipython 8.24.0 requires typing-extensions>=4.6; python_version < \"3.12\", but you have typing-extensions 4.5.0 which is incompatible.\u001b[0m\u001b[31m\n",
      "\u001b[0mSuccessfully installed absl-py-2.1.0 astunparse-1.6.3 cachetools-5.3.3 flatbuffers-24.3.25 gast-0.4.0 google-auth-2.29.0 google-auth-oauthlib-1.0.0 google-pasta-0.2.0 grpcio-1.64.0 h5py-3.11.0 keras-2.13.1 libclang-18.1.1 markdown-3.6 numpy-1.24.3 opt-einsum-3.3.0 protobuf-4.25.3 pyasn1-0.6.0 pyasn1-modules-0.4.0 requests-oauthlib-2.0.0 rsa-4.9 tensorboard-2.13.0 tensorboard-data-server-0.7.2 tensorflow-2.13.1 tensorflow-estimator-2.13.0 tensorflow-hub-0.16.1 tensorflow-io-gcs-filesystem-0.37.0 tensorflow-text-2.13.0 termcolor-2.4.0 tf-keras-2.15.0 typing-extensions-4.5.0 werkzeug-3.0.3 wrapt-1.16.0\n"
     ]
    }
   ],
   "source": [
    "!pip install -U \"tensorflow-text==2.13.*\"\n",
    "!pip install \"tf-models-official==2.13.*\"\n",
    "!pip install seaborn\n",
    "!pip install tabulate"
   ]
  },
  {
   "cell_type": "code",
   "execution_count": 54,
   "metadata": {
    "id": "pthhMJbx6CvR"
   },
   "outputs": [],
   "source": [
    "import os\n",
    "import pandas as pd\n",
    "import shutil\n",
    "import csv\n",
    "import re\n",
    "import random\n",
    "\n",
    "from tabulate import tabulate\n",
    "import tensorflow as tf\n",
    "import tensorflow_hub as hub\n",
    "import tensorflow_text as text\n",
    "from official.nlp import optimization \n",
    "\n",
    "import tensorflow as tf\n",
    "import tensorflow_hub as hub\n",
    "import numpy as np\n",
    "import pandas as pd\n",
    "from sklearn.metrics import confusion_matrix, classification_report, accuracy_score, precision_score, recall_score, f1_score\n",
    "import matplotlib.pyplot as plt\n",
    "import seaborn as sns\n",
    "\n",
    "tf.get_logger().setLevel('ERROR')"
   ]
  },
  {
   "cell_type": "code",
   "execution_count": 55,
   "metadata": {
    "id": "VloESBvg6RcY"
   },
   "outputs": [],
   "source": [
    "# import data and create data sets\n",
    "train = pd.read_csv(\"1_Data/Raw_Data/train_preprocessed.csv\")\n",
    "test = pd.read_csv(\"1_Data/Raw_Data/test_preprocessed.csv\")\n",
    "val = pd.read_csv(\"1_Data/Raw_Data/dev_preprocessed.csv\")\n",
    "\n",
    "\n",
    "Xtest = test['text']\n",
    "ytest = test['label']\n",
    "Xtrain = train['text']\n",
    "ytrain = train['label']\n",
    "Xval = val['text']\n",
    "yval = val['label']\n",
    "\n",
    "batch_size = 32\n",
    "test_ds = tf.data.Dataset.from_tensor_slices((Xtest.values, ytest.values)).batch(batch_size)\n",
    "train_ds = tf.data.Dataset.from_tensor_slices((Xtrain.values, ytrain.values)).batch(batch_size)\n",
    "val_ds = tf.data.Dataset.from_tensor_slices((Xval.values, yval.values)).batch(batch_size)"
   ]
  },
  {
   "cell_type": "markdown",
   "metadata": {
    "id": "ajYA_xZ9Eky3"
   },
   "source": [
    "## Import BERT Models"
   ]
  },
  {
   "cell_type": "code",
   "execution_count": 56,
   "metadata": {
    "id": "koG2X1x39Alj"
   },
   "outputs": [],
   "source": [
    "# Load the BERT preprocessing model and the BERT encoder model from TensorFlow Hub\n",
    "tfhub_handle_preprocess = 'https://tfhub.dev/tensorflow/bert_en_uncased_preprocess/3'\n",
    "tfhub_handle_encoder = 'https://tfhub.dev/tensorflow/bert_en_uncased_L-12_H-768_A-12/3'\n",
    "\n",
    "#define models\n",
    "bert_preprocess_model = hub.KerasLayer(tfhub_handle_preprocess)\n",
    "bert_encoder_model = hub.KerasLayer(tfhub_handle_encoder)"
   ]
  },
  {
   "cell_type": "markdown",
   "metadata": {
    "id": "Rs7Y2JvcBcir"
   },
   "source": [
    "## Define Model"
   ]
  },
  {
   "cell_type": "code",
   "execution_count": 57,
   "metadata": {
    "id": "uiPAMdNKBcHD"
   },
   "outputs": [],
   "source": [
    "# define model architecture\n",
    "def build_classifier_model():\n",
    "  text_input = tf.keras.layers.Input(shape=(), dtype=tf.string, name='text')\n",
    "  preprocessing_layer = hub.KerasLayer(tfhub_handle_preprocess, name='preprocessing')\n",
    "  encoder_inputs = preprocessing_layer(text_input)\n",
    "  encoder = hub.KerasLayer(tfhub_handle_encoder, trainable=True, name='BERT_encoder')\n",
    "  outputs = encoder(encoder_inputs)\n",
    "  net = outputs['pooled_output']\n",
    "  net = tf.keras.layers.Dropout(0.3)(net)\n",
    "  net = tf.keras.layers.Dense(1, activation='sigmoid', name='classifier',kernel_regularizer=tf.keras.regularizers.l2(0.01))(net)\n",
    "  return tf.keras.Model(text_input, net)"
   ]
  },
  {
   "cell_type": "code",
   "execution_count": 58,
   "metadata": {
    "colab": {
     "base_uri": "https://localhost:8080/"
    },
    "id": "0nUFIVIvBkzW",
    "outputId": "b319727b-5d2b-43a2-e7a4-a0b1640bbf67"
   },
   "outputs": [],
   "source": [
    "# create model by calling function\n",
    "classifier_model = build_classifier_model()"
   ]
  },
  {
   "cell_type": "markdown",
   "metadata": {
    "id": "rTl3IAbpFHtR"
   },
   "source": [
    "## Compile the model"
   ]
  },
  {
   "cell_type": "code",
   "execution_count": 59,
   "metadata": {
    "id": "KjD9fo_2FHLb"
   },
   "outputs": [],
   "source": [
    "# binary classification problem\n",
    "loss = tf.keras.losses.BinaryCrossentropy()\n",
    "metrics = tf.metrics.BinaryAccuracy()\n",
    "optimizer = tf.keras.optimizers.Adam(learning_rate=5e-5)\n",
    "epochs = 10\n",
    "\n",
    "# compile the model\n",
    "classifier_model.compile(optimizer=optimizer,\n",
    "                         loss=loss,\n",
    "                         metrics=metrics)"
   ]
  },
  {
   "cell_type": "markdown",
   "metadata": {
    "id": "bYdtApyIGDoI"
   },
   "source": [
    "## Train the model"
   ]
  },
  {
   "cell_type": "code",
   "execution_count": 60,
   "metadata": {
    "colab": {
     "base_uri": "https://localhost:8080/"
    },
    "id": "VeAKoZy2FnNM",
    "outputId": "7eba017d-ecc1-4d3d-a875-e6c4c4191dea"
   },
   "outputs": [
    {
     "name": "stdout",
     "output_type": "stream",
     "text": [
      "Training model with https://tfhub.dev/tensorflow/bert_en_uncased_L-12_H-768_A-12/3\n",
      "Epoch 1/10\n",
      "70/70 [==============================] - 245s 3s/step - loss: 0.3573 - binary_accuracy: 0.8426 - val_loss: 1.9839 - val_binary_accuracy: 0.4151 - lr: 5.0000e-05\n",
      "Epoch 2/10\n",
      "70/70 [==============================] - 225s 3s/step - loss: 0.3167 - binary_accuracy: 0.8883 - val_loss: 0.4536 - val_binary_accuracy: 0.8377 - lr: 5.0000e-05\n",
      "Epoch 3/10\n",
      "70/70 [==============================] - 222s 3s/step - loss: 0.1864 - binary_accuracy: 0.9399 - val_loss: 0.2783 - val_binary_accuracy: 0.9094 - lr: 5.0000e-05\n",
      "Epoch 4/10\n",
      "70/70 [==============================] - 222s 3s/step - loss: 0.1033 - binary_accuracy: 0.9731 - val_loss: 0.3297 - val_binary_accuracy: 0.9057 - lr: 5.0000e-05\n",
      "Epoch 5/10\n",
      "70/70 [==============================] - 223s 3s/step - loss: 0.0842 - binary_accuracy: 0.9798 - val_loss: 0.3490 - val_binary_accuracy: 0.9019 - lr: 5.0000e-05\n",
      "Epoch 6/10\n",
      "70/70 [==============================] - 222s 3s/step - loss: 0.0409 - binary_accuracy: 0.9942 - val_loss: 0.3119 - val_binary_accuracy: 0.9132 - lr: 1.0000e-05\n"
     ]
    }
   ],
   "source": [
    "# implement early stopping to stop training in case loss does not decrease further\n",
    "early_stopping = tf.keras.callbacks.EarlyStopping(monitor='val_loss',patience=3)\n",
    "lr_schedule = tf.keras.callbacks.ReduceLROnPlateau(monitor='val_loss', factor=0.2, patience=2, min_lr=1e-6)\n",
    "\n",
    "print(f'Training model with {tfhub_handle_encoder}')\n",
    "history = classifier_model.fit(x=train_ds,\n",
    "                               validation_data=val_ds,\n",
    "                               epochs=epochs,\n",
    "                               callbacks=[early_stopping,lr_schedule])"
   ]
  },
  {
   "cell_type": "code",
   "execution_count": 61,
   "metadata": {},
   "outputs": [
    {
     "name": "stdout",
     "output_type": "stream",
     "text": [
      "9/9 [==============================] - 8s 863ms/step - loss: 0.3401 - binary_accuracy: 0.9170\n",
      "Loss: 0.34013333916664124\n",
      "Accuracy: 0.9169811606407166\n"
     ]
    }
   ],
   "source": [
    "# print loss and accuracy for test set\n",
    "loss, accuracy = classifier_model.evaluate(test_ds)\n",
    "\n",
    "print(f'Loss: {loss}')\n",
    "print(f'Accuracy: {accuracy}')"
   ]
  },
  {
   "cell_type": "markdown",
   "metadata": {},
   "source": [
    "## Plot training"
   ]
  },
  {
   "cell_type": "code",
   "execution_count": 62,
   "metadata": {},
   "outputs": [
    {
     "name": "stdout",
     "output_type": "stream",
     "text": [
      "dict_keys(['loss', 'binary_accuracy', 'val_loss', 'val_binary_accuracy', 'lr'])\n"
     ]
    },
    {
     "data": {
      "text/plain": [
       "<matplotlib.legend.Legend at 0x7fde7868f5e0>"
      ]
     },
     "execution_count": 62,
     "metadata": {},
     "output_type": "execute_result"
    },
    {
     "data": {
      "image/png": "[encoded data removed]",
      "text/plain": [
       "<Figure size 800x1000 with 2 Axes>"
      ]
     },
     "metadata": {},
     "output_type": "display_data"
    }
   ],
   "source": [
    "history_dict = history.history\n",
    "print(history_dict.keys())\n",
    "\n",
    "acc = history_dict['binary_accuracy']\n",
    "val_acc = history_dict['val_binary_accuracy']\n",
    "loss = history_dict['loss']\n",
    "val_loss = history_dict['val_loss']\n",
    "\n",
    "epochs = range(1, len(acc) + 1)\n",
    "fig = plt.figure(figsize=(8,10))\n",
    "fig.tight_layout()\n",
    "\n",
    "plt.subplot(2, 1, 1)\n",
    "# r is for \"solid red line\"\n",
    "plt.plot(epochs, loss, 'r', label='Training loss')\n",
    "# b is for \"solid blue line\"\n",
    "plt.plot(epochs, val_loss, 'b', label='Validation loss')\n",
    "plt.title('Training and validation loss')\n",
    "# plt.xlabel('Epochs')\n",
    "plt.ylabel('Loss')\n",
    "plt.legend()\n",
    "\n",
    "plt.subplot(2, 1, 2)\n",
    "plt.plot(epochs, acc, 'r', label='Training acc')\n",
    "plt.plot(epochs, val_acc, 'b', label='Validation acc')\n",
    "plt.title('Training and validation accuracy')\n",
    "plt.xlabel('Epochs')\n",
    "plt.ylabel('Accuracy')\n",
    "plt.legend(loc='lower right')"
   ]
  },
  {
   "cell_type": "markdown",
   "metadata": {},
   "source": [
    "## Confusion Matrix"
   ]
  },
  {
   "cell_type": "code",
   "execution_count": 97,
   "metadata": {},
   "outputs": [],
   "source": [
    "# Function to plot confusion matrix\n",
    "def plot_confusion_matrix(cm, class_names):\n",
    "    plt.figure(figsize=(8, 6))\n",
    "    sns.heatmap(cm, annot=True, fmt='d', cmap='Blues', xticklabels=class_names, yticklabels=class_names)\n",
    "    plt.ylabel('Actual')\n",
    "    plt.xlabel('Predicted')\n",
    "    plt.title('Confusion Matrix')\n",
    "    plt.show()\n",
    "\n",
    "\n",
    "# Evaluate the model and print metrics\n",
    "def evaluate_and_print_metrics(model, test_ds):\n",
    "    y_true = []\n",
    "    y_pred = []\n",
    "\n",
    "    for x, y in test_ds:\n",
    "        y_true.extend(y.numpy())\n",
    "        predictions = model.predict(x)\n",
    "        y_pred.extend(np.round(predictions).astype(int).flatten())\n",
    "\n",
    "    # Compute metrics\n",
    "    accuracy = accuracy_score(y_true, y_pred)\n",
    "    precision = precision_score(y_true, y_pred)\n",
    "    recall = recall_score(y_true, y_pred)\n",
    "    f1 = f1_score(y_true, y_pred)\n",
    "    \n",
    "    print(f'Accuracy: {accuracy:.4f}')\n",
    "    print(f'Precision: {precision:.4f}')\n",
    "    print(f'Recall: {recall:.4f}')\n",
    "    print(f'F1 Score: {f1:.4f}')\n",
    "\n",
    "    # Compute and print classificatin report\n",
    "    report = classification_report(y_true, y_pred, target_names=['Class 0', 'Class 1'])\n",
    "    print(report)\n",
    "    \n",
    "    # Compute and print confusion matrix\n",
    "    cm = confusion_matrix(y_true, y_pred)\n",
    "    plot_confusion_matrix(cm, ['Class 0', 'Class 1'])\n",
    "    "
   ]
  },
  {
   "cell_type": "code",
   "execution_count": 98,
   "metadata": {},
   "outputs": [
    {
     "name": "stdout",
     "output_type": "stream",
     "text": [
      "1/1 [==============================] - 1s 981ms/step\n",
      "1/1 [==============================] - 1s 944ms/step\n",
      "1/1 [==============================] - 1s 989ms/step\n",
      "1/1 [==============================] - 1s 984ms/step\n",
      "1/1 [==============================] - 1s 955ms/step\n",
      "1/1 [==============================] - 1s 972ms/step\n",
      "1/1 [==============================] - 1s 960ms/step\n",
      "1/1 [==============================] - 1s 993ms/step\n",
      "1/1 [==============================] - 0s 422ms/step\n",
      "Accuracy: 0.9170\n",
      "Precision: 0.7778\n",
      "Recall: 0.9403\n",
      "F1 Score: 0.8514\n",
      "              precision    recall  f1-score   support\n",
      "\n",
      "     Class 0       0.98      0.91      0.94       198\n",
      "     Class 1       0.78      0.94      0.85        67\n",
      "\n",
      "    accuracy                           0.92       265\n",
      "   macro avg       0.88      0.92      0.90       265\n",
      "weighted avg       0.93      0.92      0.92       265\n",
      "\n"
     ]
    },
    {
     "data": {
      "image/png": "[encoded data removed]",
      "text/plain": [
       "<Figure size 800x600 with 2 Axes>"
      ]
     },
     "metadata": {},
     "output_type": "display_data"
    }
   ],
   "source": [
    "evaluate_and_print_metrics(classifier_model, test_ds)"
   ]
  },
  {
   "cell_type": "markdown",
   "metadata": {},
   "source": [
    "## Predict DAX Annual Reports"
   ]
  },
  {
   "cell_type": "markdown",
   "metadata": {},
   "source": [
    "### Get environmental claims for one company"
   ]
  },
  {
   "cell_type": "code",
   "execution_count": 109,
   "metadata": {},
   "outputs": [
    {
     "name": "stdout",
     "output_type": "stream",
     "text": [
      "171/171 [==============================] - 161s 943ms/step\n",
      "Number of environmental claims: 607\n"
     ]
    }
   ],
   "source": [
    "file_path = '1_Data/Annual Reports_csv/BASF_2023.csv'\n",
    "\n",
    "# Initialize an empty list to store the rows\n",
    "data_list = []\n",
    "\n",
    "# Open the CSV file and read its contents\n",
    "with open(file_path, mode='r', newline='') as file:\n",
    "    reader = csv.reader(file)\n",
    "    for row in reader:\n",
    "        data_list.append(row)\n",
    "\n",
    "#make predictions and convert the sigmoid probability into binary classes\n",
    "preds = classifier_model.predict(data_list)\n",
    "y_classes = ((preds > 0.5)+0).ravel()\n",
    "\n",
    "# Store every data_list object where y_classes = 1 in a list called \"environmental_claims\"\n",
    "environmental_claims = [data_list[i] for i in range(len(y_classes)) if y_classes[i] == 1]\n",
    "non_environmental_claims = [data_list[i] for i in range(len(y_classes)) if y_classes[i] == 0]\n",
    "\n",
    "# Print the number of environmental claims\n",
    "print(f\"Number of environmental claims: {len(environmental_claims)}\")\n"
   ]
  },
  {
   "cell_type": "markdown",
   "metadata": {},
   "source": [
    "### Print Random Sentences"
   ]
  },
  {
   "cell_type": "code",
   "execution_count": 113,
   "metadata": {},
   "outputs": [
    {
     "name": "stdout",
     "output_type": "stream",
     "text": [
      "5 Random Environmental Claims:\n",
      "['BASF France SAS \\n \\nis part of the Entreprises pour l’Environnement network, which \\n \\nlaunched the Act4nature campaign with the main objective of \\n \\nprotecting and enhancing biodiversity.']\n",
      "['Recooling also reduces thermal emissions when we return the \\ncooling water to the waterways.']\n",
      "['The aim is to obtain constructive feedback and specific advice on \\n \\nnature-related topics and our strategic approach as well as our \\n \\ncontributions to a sustainable future.']\n",
      "['In the \\nsite-specific initiative to save and recycle water, we are focusing  \\non increasing the reuse of wastewater, condensate and collected \\nrainwater.']\n",
      "['In cooperation \\nwith local farmers and NGOs, BASF’s program promotes the \\n \\npreservation of biodiverse habitats, as well as good agricultural \\npractices, gender equity and fair working conditions.']\n",
      "\n",
      "5 Random Non-Environmental Claims:\n",
      "['A complete overview of BASF SE’s operating business is provided by the Consolidated \\n \\nFinancial Statements of the BASF Group.']\n",
      "['Additional teams \\nmay be called in for emergencies, depending on the extent of the \\ndamage and how it develops.']\n",
      "['taxonomy) and operating \\n \\nexpenditures for the 2023 business year for the two climate targets.']\n",
      "['In the United States, we celebrated the 10-year anniversary of our \\nNortheast Research Alliance (NORA) in 2023.']\n",
      "['For \\ninstance, we reduce nitrogen oxides using catalysts and feed waste \\ngases back into the production process.']\n"
     ]
    }
   ],
   "source": [
    "# Check if there are at least 10 items in each list\n",
    "if len(environmental_claims) >= 5:\n",
    "    random_environmental_claims = random.sample(environmental_claims, 5)\n",
    "else:\n",
    "    random_environmental_claims = environmental_claims\n",
    "\n",
    "if len(non_environmental_claims) >= 5:\n",
    "    random_non_environmental_claims = random.sample(non_environmental_claims, 5)\n",
    "else:\n",
    "    random_non_environmental_claims = non_environmental_claims\n",
    "\n",
    "# Print 5 random objects from each list\n",
    "print(\"5 Random Environmental Claims:\")\n",
    "for claim in random_environmental_claims:\n",
    "    print(claim)\n",
    "\n",
    "print(\"\\n5 Random Non-Environmental Claims:\")\n",
    "for claim in random_non_environmental_claims:\n",
    "    print(claim)"
   ]
  },
  {
   "cell_type": "markdown",
   "metadata": {},
   "source": [
    "### Get environment claims for all companies in folder \"annual_reports\""
   ]
  },
  {
   "cell_type": "code",
   "execution_count": 75,
   "metadata": {},
   "outputs": [
    {
     "name": "stdout",
     "output_type": "stream",
     "text": [
      "Number of claims in DGB_2023.csv are now predicted.\n",
      "105/105 [==============================] - 99s 939ms/step\n",
      "Number of claims in SAP_2023.csv are now predicted.\n",
      "99/99 [==============================] - 94s 951ms/step\n",
      "Number of claims in DHL_Group_2023.csv are now predicted.\n",
      "102/102 [==============================] - 96s 943ms/step\n",
      "Number of claims in Adidas_2023.csv are now predicted.\n",
      "115/115 [==============================] - 108s 943ms/step\n",
      "Number of claims in Munich_Re_2023.csv are now predicted.\n",
      "149/149 [==============================] - 141s 947ms/step\n",
      "Number of claims in Beiersdorf_2023.csv are now predicted.\n",
      "142/142 [==============================] - 135s 947ms/step\n",
      "Number of claims in Siemens_2023.csv are now predicted.\n",
      "101/101 [==============================] - 95s 941ms/step\n",
      "Number of claims in Siemens_Energy_2023.csv are now predicted.\n",
      "110/110 [==============================] - 105s 952ms/step\n",
      "Number of claims in Qiagen_2023.csv are now predicted.\n",
      "115/115 [==============================] - 110s 952ms/step\n",
      "Number of claims in Allianz_Group_2023.csv are now predicted.\n",
      "153/153 [==============================] - 146s 951ms/step\n",
      "Number of claims in Henkel_2023.csv are now predicted.\n",
      "107/107 [==============================] - 101s 940ms/step\n",
      "Number of claims in Brenntag_2023.csv are now predicted.\n",
      "133/133 [==============================] - 126s 945ms/step\n",
      "Number of claims in Symrise_2023.csv are now predicted.\n",
      "56/56 [==============================] - 53s 942ms/step\n",
      "Number of claims in Infineon_2023-2.csv are now predicted.\n",
      "68/68 [==============================] - 64s 939ms/step\n",
      "Number of claims in Vonovia_2023.csv are now predicted.\n",
      "134/134 [==============================] - 127s 947ms/step\n",
      "Number of claims in Volkswagen_2023.csv are now predicted.\n",
      "197/197 [==============================] - 187s 948ms/step\n",
      "Number of claims in Sartorius_Group_2023.csv are now predicted.\n",
      "91/91 [==============================] - 87s 953ms/step\n",
      "Number of claims in Daimler_Truck_2023.csv are now predicted.\n",
      "152/152 [==============================] - 143s 939ms/step\n",
      "Number of claims in RWE_2023.csv are now predicted.\n",
      "136/136 [==============================] - 129s 947ms/step\n",
      "Number of claims in EON_2023.csv are now predicted.\n",
      "170/170 [==============================] - 160s 943ms/step\n",
      "Number of claims in Merck_2023.csv are now predicted.\n",
      "153/153 [==============================] - 145s 949ms/step\n",
      "Number of claims in Hannover_Re_2023.csv are now predicted.\n",
      "108/108 [==============================] - 103s 950ms/step\n",
      "Number of claims in Porsche_2023.csv are now predicted.\n",
      "110/110 [==============================] - 104s 941ms/step\n",
      "Number of claims in Zalando_2023.csv are now predicted.\n",
      "84/84 [==============================] - 80s 950ms/step\n",
      "Number of claims in Rheinmetall_2023.csv are now predicted.\n",
      "128/128 [==============================] - 122s 951ms/step\n",
      "Number of claims in Heidelberg_Materials_2023.csv are now predicted.\n",
      "177/177 [==============================] - 168s 946ms/step\n",
      "Number of claims in Continental_2023.csv are now predicted.\n",
      "121/121 [==============================] - 115s 951ms/step\n",
      "Number of claims in Fresenius_2023.csv are now predicted.\n",
      "213/213 [==============================] - 202s 946ms/step\n",
      "Number of claims in BASF_2023.csv are now predicted.\n",
      "171/171 [==============================] - 162s 949ms/step\n",
      "Number of claims in MTU_2023.csv are now predicted.\n",
      "117/117 [==============================] - 111s 945ms/step\n",
      "Number of claims in Mercedes_Benz_2023.csv are now predicted.\n",
      "145/145 [==============================] - 137s 943ms/step\n",
      "Number of claims in Bayer_2023.csv are now predicted.\n",
      "120/120 [==============================] - 113s 941ms/step\n",
      "Number of claims in Commerzbank Group_2023.csv are now predicted.\n",
      "185/185 [==============================] - 175s 945ms/step\n",
      "Number of claims in BMW_Group_2023.csv are now predicted.\n",
      "150/150 [==============================] - 142s 944ms/step\n",
      "Number of claims in Telekom_2023.csv are now predicted.\n",
      "220/220 [==============================] - 209s 950ms/step\n",
      "Number of claims in Siemens_Health_2023.csv are now predicted.\n",
      "73/73 [==============================] - 69s 939ms/step\n",
      "DGB_2023.csv - Number of environmental claims: 36\n",
      "SAP_2023.csv - Number of environmental claims: 74\n",
      "DHL_Group_2023.csv - Number of environmental claims: 97\n",
      "Adidas_2023.csv - Number of environmental claims: 162\n",
      "Munich_Re_2023.csv - Number of environmental claims: 114\n",
      "Beiersdorf_2023.csv - Number of environmental claims: 373\n",
      "Siemens_2023.csv - Number of environmental claims: 43\n",
      "Siemens_Energy_2023.csv - Number of environmental claims: 114\n",
      "Qiagen_2023.csv - Number of environmental claims: 154\n",
      "Allianz_Group_2023.csv - Number of environmental claims: 253\n",
      "Henkel_2023.csv - Number of environmental claims: 91\n",
      "Brenntag_2023.csv - Number of environmental claims: 141\n",
      "Symrise_2023.csv - Number of environmental claims: 216\n",
      "Infineon_2023-2.csv - Number of environmental claims: 60\n",
      "Vonovia_2023.csv - Number of environmental claims: 132\n",
      "Volkswagen_2023.csv - Number of environmental claims: 210\n",
      "Sartorius_Group_2023.csv - Number of environmental claims: 71\n",
      "Daimler_Truck_2023.csv - Number of environmental claims: 296\n",
      "RWE_2023.csv - Number of environmental claims: 227\n",
      "EON_2023.csv - Number of environmental claims: 350\n",
      "Merck_2023.csv - Number of environmental claims: 218\n",
      "Hannover_Re_2023.csv - Number of environmental claims: 36\n",
      "Porsche_2023.csv - Number of environmental claims: 134\n",
      "Zalando_2023.csv - Number of environmental claims: 120\n",
      "Rheinmetall_2023.csv - Number of environmental claims: 133\n",
      "Heidelberg_Materials_2023.csv - Number of environmental claims: 597\n",
      "Continental_2023.csv - Number of environmental claims: 76\n",
      "Fresenius_2023.csv - Number of environmental claims: 121\n",
      "BASF_2023.csv - Number of environmental claims: 607\n",
      "MTU_2023.csv - Number of environmental claims: 154\n",
      "Mercedes_Benz_2023.csv - Number of environmental claims: 156\n",
      "Bayer_2023.csv - Number of environmental claims: 162\n",
      "Commerzbank Group_2023.csv - Number of environmental claims: 304\n",
      "BMW_Group_2023.csv - Number of environmental claims: 210\n",
      "Telekom_2023.csv - Number of environmental claims: 197\n",
      "Siemens_Health_2023.csv - Number of environmental claims: 22\n"
     ]
    }
   ],
   "source": [
    "directory_path = '1_Data/Annual Reports_csv'\n",
    "\n",
    "# Initialize an empty list to store the number of claims along with filenames\n",
    "claims_count_list = []\n",
    "\n",
    "# Loop through all files in the directory\n",
    "for filename in os.listdir(directory_path):\n",
    "    if filename.endswith('.csv'):\n",
    "        file_path = os.path.join(directory_path, filename)\n",
    "        \n",
    "        # Initialize an empty list to store the rows\n",
    "        data_list = []\n",
    "\n",
    "        # Open the CSV file and read its contents\n",
    "        with open(file_path, mode='r', newline='') as file:\n",
    "            reader = csv.reader(file)\n",
    "            for row in reader:\n",
    "                data_list.append(row)\n",
    "\n",
    "        # Make predictions and convert the sigmoid probability into binary classes\n",
    "        print(f\"Number of claims in {filename} are now predicted.\")\n",
    "        preds = classifier_model.predict(data_list)\n",
    "        y_classes = ((preds > 0.5) + 0).ravel()\n",
    "\n",
    "        # Store every data_list object where y_classes = 1 in a list called \"environmental_claims\"\n",
    "        environmental_claims = [data_list[i] for i in range(len(y_classes)) if y_classes[i] == 1]\n",
    "\n",
    "        # Store the filename and the number of environmental claims\n",
    "        claims_count_list.append((filename, len(environmental_claims)))\n",
    "\n",
    "# Print the results\n",
    "for filename, num_claims in claims_count_list:\n",
    "    print(f\"{filename} - Number of environmental claims: {num_claims}\")\n"
   ]
  },
  {
   "cell_type": "markdown",
   "metadata": {},
   "source": [
    "### Print Environmental Claims Count"
   ]
  },
  {
   "cell_type": "code",
   "execution_count": 80,
   "metadata": {},
   "outputs": [
    {
     "name": "stdout",
     "output_type": "stream",
     "text": [
      "+----------------------+--------------------------------+\n",
      "|       Filename       | Number of Environmental Claims |\n",
      "+----------------------+--------------------------------+\n",
      "|         BASF         |              607               |\n",
      "| Heidelberg_Materials |              597               |\n",
      "|      Beiersdorf      |              373               |\n",
      "|         EON          |              350               |\n",
      "|  Commerzbank Group   |              304               |\n",
      "|    Daimler_Truck     |              296               |\n",
      "|    Allianz_Group     |              253               |\n",
      "|         RWE          |              227               |\n",
      "|        Merck         |              218               |\n",
      "|       Symrise        |              216               |\n",
      "|      Volkswagen      |              210               |\n",
      "|      BMW_Group       |              210               |\n",
      "|       Telekom        |              197               |\n",
      "|        Adidas        |              162               |\n",
      "|        Bayer         |              162               |\n",
      "|    Mercedes_Benz     |              156               |\n",
      "|        Qiagen        |              154               |\n",
      "|         MTU          |              154               |\n",
      "|       Brenntag       |              141               |\n",
      "|       Porsche        |              134               |\n",
      "|     Rheinmetall      |              133               |\n",
      "|       Vonovia        |              132               |\n",
      "|      Fresenius       |              121               |\n",
      "|       Zalando        |              120               |\n",
      "|      Munich_Re       |              114               |\n",
      "|    Siemens_Energy    |              114               |\n",
      "|      DHL_Group       |               97               |\n",
      "|        Henkel        |               91               |\n",
      "|     Continental      |               76               |\n",
      "|         SAP          |               74               |\n",
      "|   Sartorius_Group    |               71               |\n",
      "|       Infineon       |               60               |\n",
      "|       Siemens        |               43               |\n",
      "|         DGB          |               36               |\n",
      "|     Hannover_Re      |               36               |\n",
      "|    Siemens_Health    |               22               |\n",
      "+----------------------+--------------------------------+\n"
     ]
    }
   ],
   "source": [
    "# Remove \"_2023.csv\" from each filename and sort the list in descending order\n",
    "claims_count_list = [(re.sub(r'_2023.*', '', filename), count) for filename, count in claims_count_list]\n",
    "claims_count_list = sorted(claims_count_list, key=lambda x: x[1], reverse=True)\n",
    "\n",
    "# Convert to a pretty table\n",
    "table = tabulate(claims_count_list, headers=[\"Filename\", \"Number of Environmental Claims\"], tablefmt=\"pretty\")\n",
    "\n",
    "# Print the table\n",
    "print(table)"
   ]
  },
  {
   "cell_type": "markdown",
   "metadata": {},
   "source": [
    "### Plot Environmental Claim Counts"
   ]
  },
  {
   "cell_type": "code",
   "execution_count": 101,
   "metadata": {},
   "outputs": [
    {
     "data": {
      "image/png": "[encoded data removed]",
      "text/plain": [
       "<Figure size 1200x800 with 1 Axes>"
      ]
     },
     "metadata": {},
     "output_type": "display_data"
    }
   ],
   "source": [
    "# Extract filenames and number of claims\n",
    "filenames = [item[0] for item in claims_count_list]\n",
    "num_claims = [item[1] for item in claims_count_list]\n",
    "\n",
    "# Plotting the bar graph\n",
    "plt.figure(figsize=(12, 8))\n",
    "plt.barh(filenames, num_claims, color='skyblue')\n",
    "plt.xlabel('Number of Environmental Claims')\n",
    "plt.ylabel('Company')\n",
    "plt.title('Number of Environmental Claims in Annual Report per Company')\n",
    "plt.gca().invert_yaxis()  # To display the largest bar on top\n",
    "plt.show()"
   ]
  },
  {
   "cell_type": "markdown",
   "metadata": {},
   "source": [
    "### File Lengths"
   ]
  },
  {
   "cell_type": "code",
   "execution_count": 115,
   "metadata": {},
   "outputs": [
    {
     "name": "stdout",
     "output_type": "stream",
     "text": [
      "File Lengths in Descending Order:\n",
      "+-------------------------------+---------------------+\n",
      "|           Filename            | Number of Sentences |\n",
      "+-------------------------------+---------------------+\n",
      "|       Telekom_2023.csv        |        7023         |\n",
      "|      Fresenius_2023.csv       |        6805         |\n",
      "|      Volkswagen_2023.csv      |        6279         |\n",
      "|  Commerzbank Group_2023.csv   |        5892         |\n",
      "| Heidelberg_Materials_2023.csv |        5636         |\n",
      "|         BASF_2023.csv         |        5457         |\n",
      "|         EON_2023.csv          |        5421         |\n",
      "|        Merck_2023.csv         |        4892         |\n",
      "|    Allianz_Group_2023.csv     |        4879         |\n",
      "|    Daimler_Truck_2023.csv     |        4839         |\n",
      "|      BMW_Group_2023.csv       |        4780         |\n",
      "|      Munich_Re_2023.csv       |        4762         |\n",
      "|    Mercedes_Benz_2023.csv     |        4620         |\n",
      "|      Beiersdorf_2023.csv      |        4514         |\n",
      "|         RWE_2023.csv          |        4343         |\n",
      "|       Vonovia_2023.csv        |        4278         |\n",
      "|       Brenntag_2023.csv       |        4229         |\n",
      "|     Rheinmetall_2023.csv      |        4080         |\n",
      "|     Continental_2023.csv      |        3869         |\n",
      "|        Bayer_2023.csv         |        3832         |\n",
      "|         MTU_2023.csv          |        3743         |\n",
      "|        Qiagen_2023.csv        |        3679         |\n",
      "|        Adidas_2023.csv        |        3676         |\n",
      "|    Siemens_Energy_2023.csv    |        3520         |\n",
      "|       Porsche_2023.csv        |        3489         |\n",
      "|     Hannover_Re_2023.csv      |        3427         |\n",
      "|        Henkel_2023.csv        |        3397         |\n",
      "|         DGB_2023.csv          |        3330         |\n",
      "|      DHL_Group_2023.csv       |        3235         |\n",
      "|       Siemens_2023.csv        |        3220         |\n",
      "|         SAP_2023.csv          |        3161         |\n",
      "|   Sartorius_Group_2023.csv    |        2897         |\n",
      "|       Zalando_2023.csv        |        2680         |\n",
      "|    Siemens_Health_2023.csv    |        2322         |\n",
      "|      Infineon_2023-2.csv      |        2148         |\n",
      "|       Symrise_2023.csv        |        1783         |\n",
      "+-------------------------------+---------------------+\n"
     ]
    }
   ],
   "source": [
    "file_lengths = []\n",
    "\n",
    "# Loop through all files in the directory\n",
    "for filename in os.listdir(directory_path):\n",
    "    if filename.endswith('.csv'):\n",
    "        file_path = os.path.join(directory_path, filename)\n",
    "        \n",
    "        # Initialize an empty list to store the rows\n",
    "        data_list = []\n",
    "\n",
    "        # Open the CSV file and read its contents\n",
    "        with open(file_path, mode='r', newline='') as file:\n",
    "            reader = csv.reader(file)\n",
    "            for row in reader:\n",
    "                data_list.append(row)\n",
    "\n",
    "        # Append the filename and its length to the list\n",
    "        file_lengths.append((filename, len(data_list)))\n",
    "\n",
    "# Sort the list by the lengths in descending order\n",
    "file_lengths = sorted(file_lengths, key=lambda x: x[1], reverse=True)\n",
    "\n",
    "# Print the table using tabulate\n",
    "print(\"File Lengths in Descending Order:\")\n",
    "table = tabulate(file_lengths, headers=[\"Filename\", \"Number of Sentences\"], tablefmt=\"pretty\")\n",
    "print(table)"
   ]
  },
  {
   "cell_type": "markdown",
   "metadata": {},
   "source": [
    "### Output claims counts as csv for further analysis"
   ]
  },
  {
   "cell_type": "code",
   "execution_count": 116,
   "metadata": {},
   "outputs": [
    {
     "name": "stdout",
     "output_type": "stream",
     "text": [
      "Data has been written to environmental_claims_counts.csv\n"
     ]
    }
   ],
   "source": [
    "output_csv = 'environmental_claims_counts.csv'\n",
    "\n",
    "# Write the list to a CSV file\n",
    "with open(output_csv, mode='w', newline='') as file:\n",
    "    writer = csv.writer(file)\n",
    "    writer.writerow([\"Filename\", \"Number of Sentences\"])  # Write the header\n",
    "    writer.writerows(claims_count_list)  # Write the data\n",
    "\n",
    "print(f\"Data has been written to {output_csv}\")"
   ]
  },
  {
   "cell_type": "markdown",
   "metadata": {},
   "source": [
    "### Get False-Negative and False_positive"
   ]
  },
  {
   "cell_type": "code",
   "execution_count": 132,
   "metadata": {},
   "outputs": [
    {
     "name": "stdout",
     "output_type": "stream",
     "text": [
      "1/1 [==============================] - 1s 969ms/step\n",
      "1/1 [==============================] - 1s 947ms/step\n",
      "1/1 [==============================] - 1s 978ms/step\n",
      "1/1 [==============================] - 1s 984ms/step\n",
      "1/1 [==============================] - 1s 949ms/step\n",
      "1/1 [==============================] - 1s 944ms/step\n",
      "1/1 [==============================] - 1s 961ms/step\n",
      "1/1 [==============================] - 1s 993ms/step\n",
      "1/1 [==============================] - 0s 420ms/step\n",
      "length tp:63\n",
      "length tn:180\n",
      "length fp:18\n",
      "length fn:4\n"
     ]
    }
   ],
   "source": [
    "# Function to evaluate the model and print metrics\n",
    "def get_text_classifications(model, test_ds, data_list):\n",
    "    y_true = []\n",
    "    y_pred = []\n",
    "\n",
    "    for x, y in test_ds:\n",
    "        y_true.extend(y.numpy())\n",
    "        predictions = model.predict(x)\n",
    "        y_pred.extend(np.round(predictions).astype(int).flatten())\n",
    "\n",
    "    # Get the indices of TP, TN, FP, FN\n",
    "    tp_indices = [i for i, (true, pred) in enumerate(zip(y_true, y_pred)) if true == 1 and pred == 1]\n",
    "    tn_indices = [i for i, (true, pred) in enumerate(zip(y_true, y_pred)) if true == 0 and pred == 0]\n",
    "    fp_indices = [i for i, (true, pred) in enumerate(zip(y_true, y_pred)) if true == 0 and pred == 1]\n",
    "    fn_indices = [i for i, (true, pred) in enumerate(zip(y_true, y_pred)) if true == 1 and pred == 0]\n",
    "\n",
    "    tp_list = []\n",
    "    tn_list = []\n",
    "    fp_list = []\n",
    "    fn_list = []\n",
    "    \n",
    "    # Print actual values corresponding to the indices\n",
    "    for i in tp_indices:\n",
    "        tp_list.append(data_list[i])\n",
    "    print(f\"length tp:{len(tp_list)}\")\n",
    "\n",
    "    for i in tn_indices:\n",
    "        tn_list.append(data_list[i])\n",
    "    print(f\"length tn:{len(tn_list)}\")\n",
    "\n",
    "    for i in fp_indices:\n",
    "        fp_list.append(data_list[i])\n",
    "    print(f\"length fp:{len(fp_list)}\")\n",
    "\n",
    "    for i in fn_indices:\n",
    "        fn_list.append(data_list[i])\n",
    "    print(f\"length fn:{len(fn_list)}\")\n",
    "\n",
    "    return tn_list, fp_list, fn_list, tp_list\n",
    "# Assuming test_ds is defined and contains the test dataset\n",
    "tn, fp, fn, tp = get_text_classifications(classifier_model, test_ds, Xtest)\n"
   ]
  },
  {
   "cell_type": "markdown",
   "metadata": {},
   "source": [
    "### Print False Negatives"
   ]
  },
  {
   "cell_type": "code",
   "execution_count": 133,
   "metadata": {},
   "outputs": [
    {
     "data": {
      "text/plain": [
       "['A total population of 6148 is getting the benefit of safe potable drinking water due to this initiative.',\n",
       " 'To strengthen its approach, Kering’s SBT for a 1.5°C trajectory was revised and approved by the SBTi in early 2021.',\n",
       " 'In October 2018, EnBW published its first Green Financing Framework and issued its first green bond (Glossary, p. 153) with a volume of €500 million (p. 85 f.).',\n",
       " 'The SEH Committee will continue to monitor our environmental sustainability performance quarterly and approve updates to our environmental sustainability strategy and targets annually.']"
      ]
     },
     "execution_count": 133,
     "metadata": {},
     "output_type": "execute_result"
    }
   ],
   "source": [
    "fn"
   ]
  },
  {
   "cell_type": "markdown",
   "metadata": {},
   "source": [
    "### Print False Positives"
   ]
  },
  {
   "cell_type": "code",
   "execution_count": 134,
   "metadata": {},
   "outputs": [
    {
     "data": {
      "text/plain": [
       "[\"But it's certainly a hefty investment that needs to be made in our state for renewable energy in order to meet that portfolio of standard.\",\n",
       " 'In common with other UK pension schemes, whilst the fund is invested in oil, gas and other resource companies, the fund is also made up of significant holdings in renewable energy assets.',\n",
       " 'The redevelopment also features Hammerson’s second carbon neutral Costa Eco Pod and the first Denny’s American Diner in the UK.',\n",
       " 'This reduces KLP’s climate risk and makes it clear that our work has an effect on the climate.',\n",
       " 'In terms of initiatives regarding energy issues, the AGC Group works to reduce the energy involved in its production activities.',\n",
       " 'Pursuant to the service concession arrangements, the Group was granted rights to construct, operate and maintain environmental energy projects, greentech projects and environmental water projects in the PRC for a period of 7 to 50 years.',\n",
       " 'In fact, it is one of the original sources of clean energy.',\n",
       " 'Provisions for Environmental Rehabilitations (“PERs”) We have an obligation to reclaim our mining properties after the minerals have been mined from the site, and have estimated the costs necessary to comply with existing reclamation standards.',\n",
       " 'In order to ensure and monitor compliance with this commitment, since 2004, Groupe Renault measures the environmental impact of its vehicles throughout their life-cycle, from the extraction of the raw materials needed for their manufacture until their end-of-life.',\n",
       " 'As a company that is reliant on natural resources for the vast majority of its raw materials, for J-Oil Mills these environmental issues are vitally important and have a considerable impact on our business.',\n",
       " 'For these reasons, we consider climate change countermeasures to be a major component of sustainability management.',\n",
       " 'Managing our social impacts is critical for keeping our projects on track and on budget, and meeting our commitment to creating benefits for local communities. •',\n",
       " 'The business requires significant capital investment and a maintenance programme for water and used water networks and treatment facilities in order to comply with regulatory and environmental performance standards.',\n",
       " 'The team collaborates with BHP’s Functions and Asset teams, external partners and industry to develop practical climate change solutions, designed to preserve and unlock long-term value for BHP.',\n",
       " 'ATP has been part of Climate Action 100+ since the initiative started, and since then it has grown to 373 investors from all over the world and manages a total of USD 35 billion.',\n",
       " 'Renewable energy is purely domestic sourced and environment-friendly, and can be used continuously without being depleted.',\n",
       " 'In RY2017, the Kubota Group reduced the amount of VOCs it handles through efforts such as improving the coating method to improve the coating efficiency of paint, promoting replacement with VOC-free materials, and collecting and recycling used thinner.',\n",
       " 'With the SVP2030 plan, we have further reinforced this commitment by formulated long- term goals up to FY2031/3 to show our strong will to contribute to “resolving social issues on a global scale through business activities”.']"
      ]
     },
     "execution_count": 134,
     "metadata": {},
     "output_type": "execute_result"
    }
   ],
   "source": [
    "fp"
   ]
  }
 ],
 "metadata": {
  "colab": {
   "provenance": []
  },
  "kernelspec": {
   "display_name": "Python 3 ",
   "language": "python",
   "name": "python3"
  },
  "language_info": {
   "codemirror_mode": {
    "name": "ipython",
    "version": 3
   },
   "file_extension": ".py",
   "mimetype": "text/x-python",
   "name": "python",
   "nbconvert_exporter": "python",
   "pygments_lexer": "ipython3",
   "version": "3.10.0"
  }
 },
 "nbformat": 4,
 "nbformat_minor": 4
}
